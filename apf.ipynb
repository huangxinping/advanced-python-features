{
 "cells": [
  {
   "cell_type": "markdown",
   "id": "ef1b081e",
   "metadata": {},
   "source": [
    "#  3.5新增"
   ]
  },
  {
   "cell_type": "markdown",
   "id": "351ad041",
   "metadata": {},
   "source": [
    "## @overload"
   ]
  },
  {
   "cell_type": "code",
   "execution_count": null,
   "id": "0e6803cc",
   "metadata": {},
   "outputs": [],
   "source": [
    "from typing import Literal, overload\n",
    "\n",
    "\n",
    "@overload\n",
    "def transform(data: str, mode: Literal[\"split\"]) -> list[str]: ...\n",
    "\n",
    "\n",
    "@overload\n",
    "def transform(data: str, mode: Literal[\"upper\"]) -> str: ...\n",
    "\n",
    "\n",
    "def transform(data: str, mode: Literal[\"split\", \"upper\"]) -> list[str] | str: # 这里管道符\"|\"是 3.10 新特性\n",
    "    if mode == \"split\":\n",
    "        return data.split()\n",
    "    else:\n",
    "        return data.upper()\n",
    "\n",
    "\n",
    "split_words = transform(\"hello world\", \"split\")  \n",
    "split_words[0]  # pyright静态检查通过 （pyright 是一个静态类型检查工具，通过 uv add pyright 或 pip install pyright 安装）\n",
    "\n",
    "upper_words = transform(\"hello world\", \"upper\")  \n",
    "upper_words.lower()  # pyright静态检查通过 \n",
    "\n",
    "upper_words.append(\"!\") # pyright静态检查失败\n",
    "                        # error: Cannot access attribute \"append\" for class \"str\"\n",
    "                        # Attribute \"append\" is unknown (reportAttributeAccessIssue)"
   ]
  },
  {
   "cell_type": "markdown",
   "id": "c8c2af01",
   "metadata": {},
   "source": [
    "# 3.6新增"
   ]
  },
  {
   "cell_type": "markdown",
   "id": "d062e802",
   "metadata": {},
   "source": [
    "##  变量注解"
   ]
  },
  {
   "cell_type": "code",
   "execution_count": null,
   "id": "deab1569",
   "metadata": {},
   "outputs": [],
   "source": [
    "# 在 3.6 中使用变量注解 [citation:3][citation:15][citation:19]\n",
    "name: str = \"Alice\"\n",
    "age: int = 30\n",
    "is_active: bool = True\n",
    "\n",
    "# 可以在定义变量时直接添加注解，也可以先注解后赋值 [citation:3][citation:15]\n",
    "salary: float\n",
    "salary = 5000.50\n",
    "\n",
    "# 类型检查器可以根据注解发现潜在的类型错误\n",
    "# age = \"thirty\" # 类型检查器会标记错误"
   ]
  },
  {
   "cell_type": "markdown",
   "id": "17b48d5d",
   "metadata": {},
   "source": [
    "# 3.7 新增"
   ]
  },
  {
   "cell_type": "markdown",
   "id": "18e878b9",
   "metadata": {},
   "source": [
    "## 未来注释"
   ]
  },
  {
   "cell_type": "code",
   "execution_count": null,
   "id": "576f8c62",
   "metadata": {
    "notebookRunGroups": {
     "groupValue": "1"
    }
   },
   "outputs": [],
   "source": [
    "def build_user() -> User: # 报错：未定义“User”\n",
    "    ...\n",
    "\n",
    "def build_user() -> \"User\": # 解决使用时还未定义\n",
    "    ...\n",
    "\n",
    "class User:\n",
    "    ..."
   ]
  },
  {
   "cell_type": "code",
   "execution_count": null,
   "id": "7fba4160",
   "metadata": {},
   "outputs": [],
   "source": [
    "from __future__ import annotations # 解决使用时还未定义\n",
    "\n",
    "def build_user() -> User:\n",
    "    ...\n",
    "\n",
    "class User:\n",
    "    ..."
   ]
  },
  {
   "cell_type": "markdown",
   "id": "f3d94420",
   "metadata": {},
   "source": [
    "# 3.8新增"
   ]
  },
  {
   "cell_type": "markdown",
   "id": "9e5e9f54",
   "metadata": {},
   "source": [
    "## 协议"
   ]
  },
  {
   "cell_type": "code",
   "execution_count": null,
   "id": "e7b61b27",
   "metadata": {},
   "outputs": [],
   "source": [
    "from typing import Protocol\n",
    "\n",
    "\n",
    "class Quackable(Protocol):\n",
    "    def quack(self,) -> None: \n",
    "        ...\n",
    "\n",
    "\n",
    "class Duck:\n",
    "    def quack(self):\n",
    "        print(\"Quack!\")\n",
    "\n",
    "\n",
    "class Dog:\n",
    "    def bark(self):\n",
    "        print(\"Woof!\")\n",
    "\n",
    "\n",
    "def run_quack(obj: Quackable):\n",
    "    obj.quack()\n",
    "\n",
    "\n",
    "run_quack(Duck())  # Works!\n",
    "run_quack(Dog())  # Fails during TYPE CHECKING (not runtime)"
   ]
  },
  {
   "cell_type": "markdown",
   "id": "f97f94eb",
   "metadata": {},
   "source": [
    "# 3.9新增"
   ]
  },
  {
   "cell_type": "markdown",
   "id": "17e0b4a7",
   "metadata": {},
   "source": [
    "## 缓存"
   ]
  },
  {
   "cell_type": "code",
   "execution_count": null,
   "id": "a0646407",
   "metadata": {},
   "outputs": [],
   "source": [
    "from functools import cache\n",
    "\n",
    "@cache\n",
    "def fib(n):\n",
    "    return n if n < 2 else fib(n-1) + fib(n-2)"
   ]
  },
  {
   "cell_type": "markdown",
   "id": "f3474844",
   "metadata": {},
   "source": [
    "## 字典操作"
   ]
  },
  {
   "cell_type": "code",
   "execution_count": null,
   "id": "e13e9944",
   "metadata": {},
   "outputs": [],
   "source": [
    "dict1 = {\"a\": 1, \"b\": 2}\n",
    "dict2 = {\"c\": 3, \"d\": 4}\n",
    "dict3 = {\"a\": 5, \"e\": 6}\n",
    "\n",
    "# 合并 (创建新字典)，右边的字典会覆盖左边同名的键 [citation:2][citation:14][citation:20]\n",
    "merged_dict_39 = dict1 | dict2 | dict3\n",
    "print(merged_dict_39) # 输出: {'a': 5, 'b': 2, 'c': 3, 'd': 4, 'e': 6}\n",
    "\n",
    "# 更新 (修改原字典)，使用 |= 运算符 [citation:2][citation:14][citation:20]\n",
    "dict1 |= dict2\n",
    "print(dict1) # 输出: {'a': 1, 'b': 2, 'c': 3, 'd': 4}"
   ]
  },
  {
   "cell_type": "markdown",
   "id": "285bf250",
   "metadata": {},
   "source": [
    "# 3.10新增"
   ]
  },
  {
   "cell_type": "markdown",
   "id": "616db4ed",
   "metadata": {},
   "source": [
    "## 结构模式匹配（match）"
   ]
  },
  {
   "cell_type": "code",
   "execution_count": null,
   "id": "dd3bbbe1",
   "metadata": {},
   "outputs": [],
   "source": [
    "def get_day_type(day):\n",
    "    match day:\n",
    "        case (\"Monday\"\n",
    "            | \"Tuesday\"\n",
    "            | \"Wednesday\"\n",
    "            | \"Thursday\"\n",
    "            | \"Friday\"):\n",
    "            return \"Weekday\"\n",
    "        case \"Saturday\" | \"Sunday\":\n",
    "            return \"Weekend\"\n",
    "\n",
    "def get_point_desc(point):        \n",
    "    match point:\n",
    "        case (0, 0):\n",
    "            return \"Origin\"\n",
    "        case (0, y):\n",
    "            return f\"Y-axis at {y}\"\n",
    "        case (x, 0):\n",
    "            return f\"X-axis at {x}\"\n",
    "        case (x, y):\n",
    "            return f\"Point at ({x}, {y})\"\n",
    "\n",
    "def get_tempreature_desc(temperature):        \n",
    "    match temperature:\n",
    "        case temp if temp < 0:\n",
    "            return \"Freezing\"\n",
    "        case temp if temp < 20:\n",
    "            return \"Cold\"\n",
    "        case temp if temp < 30:\n",
    "            return \"Warm\"\n",
    "        case _:\n",
    "            return \"Hot\""
   ]
  },
  {
   "cell_type": "markdown",
   "id": "699796fa",
   "metadata": {},
   "source": [
    "# 3.11新增"
   ]
  },
  {
   "cell_type": "markdown",
   "id": "9324c627",
   "metadata": {},
   "source": [
    "## “Self”类型"
   ]
  },
  {
   "cell_type": "code",
   "execution_count": null,
   "id": "ec2f4439",
   "metadata": {},
   "outputs": [],
   "source": [
    "from typing import Self\n",
    "\n",
    "\n",
    "class User:\n",
    "\n",
    "    def build(self) -> Self:  \n",
    "        return self"
   ]
  },
  {
   "cell_type": "markdown",
   "id": "089474fb",
   "metadata": {},
   "source": [
    "# 3.12新增"
   ]
  },
  {
   "cell_type": "markdown",
   "id": "ade1bf57",
   "metadata": {},
   "source": [
    "## 泛型"
   ]
  },
  {
   "cell_type": "code",
   "execution_count": null,
   "id": "2417c8ab",
   "metadata": {},
   "outputs": [],
   "source": [
    "class KVStore[K: str | int, V]:\n",
    "    def __init__(self) -> None:\n",
    "        self.store: dict[K, V] = {}\n",
    "\n",
    "    def get(self, key: K) -> V:\n",
    "        return self.store[key]\n",
    "\n",
    "    def set(self, key: K, value: V) -> None:\n",
    "        self.store[key] = value\n",
    "\n",
    "kv = KVStore[str, int]()\n",
    "kv.set(\"one\", 1)\n",
    "kv.set(\"two\", 2)\n",
    "kv.set(\"three\", 3)"
   ]
  },
  {
   "cell_type": "markdown",
   "id": "f7afe3eb",
   "metadata": {},
   "source": [
    "## @override"
   ]
  },
  {
   "cell_type": "code",
   "execution_count": null,
   "id": "894f05d3",
   "metadata": {},
   "outputs": [],
   "source": [
    "from typing import override\n",
    "\n",
    "class Base:\n",
    "    \n",
    "    def greet(self) -> None:\n",
    "        print(\"Hello\")\n",
    "\n",
    "class Derived(Base):\n",
    "    \n",
    "    @override # 标记此方法意在覆盖 Base.greet\n",
    "    def greet(self) -> None:\n",
    "        print(\"Hi\")\n",
    "\n",
    "class AnotherDerived(Base):\n",
    "    \n",
    "    # 如果这里写成了 gret 而没有使用 @override，类型检查器不会报错\n",
    "    def gret(self) -> None:\n",
    "        print(\"Hey\")\n",
    "\n",
    "class YetAnotherDerived(Base):\n",
    "    \n",
    "    @override\n",
    "    def gret(self) -> None:\n",
    "        # 如果这里使用 @override 但超类中没有 gret 方法，\n",
    "        # 类型检查器（如 Pyright/Mypy）会在这里报告错误 [citation:5][citation:12]\n",
    "        print(\"Oops\")"
   ]
  },
  {
   "cell_type": "markdown",
   "id": "fce02b89",
   "metadata": {},
   "source": [
    "# 其他 "
   ]
  },
  {
   "cell_type": "markdown",
   "id": "99e5df64",
   "metadata": {},
   "source": [
    "##  字符串字面量（限定输入）"
   ]
  },
  {
   "cell_type": "code",
   "execution_count": null,
   "id": "f270c79a",
   "metadata": {},
   "outputs": [],
   "source": [
    "def set_color(color: Literal[\"red\", \"blue\", \"green\"]) -> None:\n",
    "    ...\n",
    "\n",
    "set_color(\"red\")\n",
    "set_color(\"blue\")\n",
    "set_color(\"green\")\n",
    "set_color(\"fuchsia\")  # Argument of type \"Literal['fuchsia']\" cannot be assigned to parameter \"color\""
   ]
  },
  {
   "cell_type": "markdown",
   "id": "ff9b65f0",
   "metadata": {},
   "source": [
    "##  仅关键字和仅位置参数"
   ]
  },
  {
   "cell_type": "code",
   "execution_count": null,
   "id": "388698ce",
   "metadata": {},
   "outputs": [],
   "source": [
    "def foo(a, *, b):  # `*`后面的参数必须作为关键字参数传递。\n",
    "\t...\n",
    "\t\n",
    "foo(a=1, b=2) \n",
    "foo(1, b=2) \n",
    "foo(1, 2) # Cannot use positional for keyword-only parameter\n",
    "\n",
    "def bar(a, /, b): # `/` 之前的参数必须按位置传递，不能用作关键字参数。\n",
    "\t...\n",
    "\t\n",
    "bar(1, 2) \n",
    "bar(1, b=2) \n",
    "bar(a=1, b=2) # Cannot use keyword for positional-only parameter"
   ]
  },
  {
   "cell_type": "markdown",
   "id": "7aec8db5",
   "metadata": {},
   "source": [
    "##  Slot内存优化"
   ]
  },
  {
   "cell_type": "code",
   "execution_count": null,
   "id": "f9e3598c",
   "metadata": {},
   "outputs": [],
   "source": [
    "class Optimized:  \n",
    "\t__slots__ = ['x', 'y']  \n",
    "\tdef __init__(self, x, y):  \n",
    "\t\tself.x = x  \n",
    "\t\tself.y = y\n",
    "\n",
    "obj = Optimized(10, 20)  \n",
    "# obj.z = 30 # This would raise an error because 'z' is not in __slots__"
   ]
  },
  {
   "cell_type": "markdown",
   "id": "b31f8c96",
   "metadata": {},
   "source": [
    "## 迭代器"
   ]
  },
  {
   "cell_type": "code",
   "execution_count": null,
   "id": "cd859b57",
   "metadata": {},
   "outputs": [],
   "source": [
    "class MyIterator:  \n",
    "\tdef __init__(self, max):  \n",
    "\t\tself.max = max  \n",
    "\t\tself.current = 0  \n",
    "\t  \n",
    "\tdef __iter__(self):  \n",
    "\t\treturn self  \n",
    "\t  \n",
    "\tdef __next__(self):  \n",
    "\t\tif self.current < self.max:  \n",
    "\t\t\tself.current += 1  \n",
    "\t\t\treturn self.current  \n",
    "\t\telse:  \n",
    "\t\t\traise StopIteration  \n",
    "  \n",
    "iterator = MyIterator(5)  \n",
    "for value in iterator:  \n",
    "\tprint(value)\n",
    "\n",
    "\n",
    "# 当然如下方式也可以，就是不OOP\n",
    "def countdown(n):\n",
    "    while n > 0:\n",
    "        yield n\n",
    "        n -= 1\n",
    "for i in countdown(5):\n",
    "    print(i)"
   ]
  },
  {
   "cell_type": "markdown",
   "id": "107840af",
   "metadata": {},
   "source": [
    "## 描述符"
   ]
  },
  {
   "cell_type": "code",
   "execution_count": null,
   "id": "b52c22ce",
   "metadata": {},
   "outputs": [],
   "source": [
    "class Descriptor: \n",
    "\tdef __get__(self, instance, owner): \n",
    "\t\treturn instance._value \n",
    "\t\t\n",
    "\tdef __set__(self, instance, value): \n",
    "\t\tinstance._value = value * 2 \n",
    "\t\t\n",
    "class MyClass: \n",
    "\tattribute = Descriptor() \n",
    "\t\n",
    "obj = MyClass() \n",
    "obj.attribute = 10 \n",
    "print(obj.attribute) # Output: 20"
   ]
  },
  {
   "cell_type": "markdown",
   "id": "a27fcebf",
   "metadata": {},
   "source": [
    "## 元类、抽象基类、数据类"
   ]
  },
  {
   "cell_type": "code",
   "execution_count": null,
   "id": "c342203d",
   "metadata": {},
   "outputs": [],
   "source": [
    "# 元类 - 99%的日常开发用例中，都不需要使用它\n",
    "class Meta(type):\n",
    "    def __new__(cls, name, bases, namespace):\n",
    "        print(f\"Creating class {name}\")\n",
    "        new_namespace = {}\n",
    "        for key, val in namespace.items():\n",
    "            if isinstance(val, int):\n",
    "                val *= 2 # 这里对类的属性进行2倍放大修改\n",
    "            new_namespace[key] = val\n",
    "        return super().__new__(cls, name, bases, new_namespace)\n",
    "\n",
    "\n",
    "class MyClass(metaclass=Meta):\n",
    "    x = 5\n",
    "    y = 10\n",
    "\n",
    "print(MyClass.x)  # 5被元类放大2倍，输出为10\n",
    "print(MyClass.y)  # 同理，y输出20\n",
    "\n",
    "\n",
    "\n",
    "# 抽象基类\n",
    "from abc import ABC, abstractmethod\n",
    "\n",
    "\n",
    "class Animal(ABC):\n",
    "    @abstractmethod\n",
    "    def sound(self):\n",
    "        pass\n",
    "\n",
    "\n",
    "class Dog(Animal):\n",
    "    def sound(self):\n",
    "        return \"Woof!\"\n",
    "\n",
    "\n",
    "dog = Dog()\n",
    "print(dog.sound())\n",
    "\n",
    "\n",
    "\n",
    "\n",
    "# 数据类\n",
    "from dataclasses import dataclass\n",
    "\n",
    "\n",
    "@dataclass\n",
    "class Point:\n",
    "    x: int\n",
    "    y: int\n",
    "\n",
    "\n",
    "p = Point(10, 20)\n",
    "print(p)  # Output: Point(x=10, y=20)"
   ]
  },
  {
   "cell_type": "markdown",
   "id": "c97c35bf",
   "metadata": {},
   "source": [
    "## for-else"
   ]
  },
  {
   "cell_type": "code",
   "execution_count": null,
   "id": "e53fe242",
   "metadata": {},
   "outputs": [],
   "source": [
    "class server:\n",
    "    def check_availability(self):\n",
    "        return True\n",
    "\n",
    "\n",
    "servers = [server() for _ in range(10)]\n",
    "backup_server = server()\n",
    "\n",
    "\n",
    "def deploy_application(primary_server): ...\n",
    "\n",
    "\n",
    "for server in servers:\n",
    "    if server.check_availability():\n",
    "        primary_server = server\n",
    "        break\n",
    "else:\n",
    "    # Use the backup server if no server was found\n",
    "    primary_server = backup_server\n",
    "\n",
    "# Continue execution with whatever server we found\n",
    "deploy_application(primary_server)"
   ]
  },
  {
   "cell_type": "markdown",
   "id": "01548e26",
   "metadata": {},
   "source": [
    "## 海象运算符"
   ]
  },
  {
   "cell_type": "code",
   "execution_count": null,
   "id": "3c9d259b",
   "metadata": {},
   "outputs": [],
   "source": [
    "def get_user_input():\n",
    "    return input('Enter something: ')\n",
    "\n",
    "if response := get_user_input():\n",
    "    print('You pressed:', response)\n",
    "else:\n",
    "    print('You pressed nothing')"
   ]
  },
  {
   "cell_type": "markdown",
   "id": "237c9b75",
   "metadata": {},
   "source": [
    "## or运算"
   ]
  },
  {
   "cell_type": "code",
   "execution_count": null,
   "id": "1744cb74",
   "metadata": {},
   "outputs": [],
   "source": [
    "import os\n",
    "\n",
    "def get_user_info():\n",
    "    username = os.getenv(\"USERNAME\")\n",
    "    full_name = os.getenv(\"FULL_NAME\")\n",
    "    first_name = os.getenv(\"FIRST_NAME\")\n",
    "    return username, full_name, first_name\n",
    "\n",
    "username, full_name, first_name = get_user_info()\n",
    "display_name = username or full_name or first_name or \"Anonymous\""
   ]
  },
  {
   "cell_type": "markdown",
   "id": "5b17dcd7",
   "metadata": {},
   "source": [
    "## f-string"
   ]
  },
  {
   "cell_type": "code",
   "execution_count": 2,
   "id": "92e823eb",
   "metadata": {},
   "outputs": [
    {
     "name": "stdout",
     "output_type": "stream",
     "text": [
      "================= [ Run Status ] =================\n",
      "[11:53:13] Training Run run_id=7890 status: 75.0%\n",
      "Summary: 123,456,789 samples processed\n",
      "Accuracy: 0.9257 | Loss: 0.0535\n",
      "Memory: +10.00 GB\n"
     ]
    }
   ],
   "source": [
    "import os\n",
    "from datetime import datetime\n",
    "\n",
    "time = datetime.now()\n",
    "run_id = 7890\n",
    "progress = 0.75\n",
    "total_samples = 123456789\n",
    "accuracy = 0.925732954\n",
    "loss = 0.05346592\n",
    "memory = 10000000000\n",
    "\n",
    "print(f\"{' [ Run Status ] ':=^50}\")\n",
    "print(f\"[{time:%H:%M:%S}] Training Run {run_id=} status: {progress:.1%}\")\n",
    "print(f\"Summary: {total_samples:,} samples processed\")\n",
    "print(f\"Accuracy: {accuracy:.4f} | Loss: {loss:#.3g}\")\n",
    "print(f\"Memory: {memory / 1e9:+.2f} GB\")"
   ]
  },
  {
   "cell_type": "code",
   "execution_count": 3,
   "id": "131ef96f",
   "metadata": {},
   "outputs": [
    {
     "name": "stdout",
     "output_type": "stream",
     "text": [
      "name='Monor', age=18\n"
     ]
    }
   ],
   "source": [
    "name = \"Monor\"\n",
    "age = 18\n",
    "\n",
    "print(f\"{name=}, {age=}\")"
   ]
  },
  {
   "cell_type": "code",
   "execution_count": 4,
   "id": "813240eb",
   "metadata": {},
   "outputs": [
    {
     "name": "stdout",
     "output_type": "stream",
     "text": [
      "Pi: 3.14\n",
      "Avogadro: 6.02e+23\n",
      "Big Number: 12,345,678,901,234,567,890\n",
      "Hex: 0x2a\n",
      "Number: 000000042\n"
     ]
    }
   ],
   "source": [
    "pi = 3.141592653589793\n",
    "avogadro = 6.02214076e23\n",
    "big_num = 12345678901234567890\n",
    "num = 42\n",
    "\n",
    "print(f\"Pi: {pi:.2f}\")\n",
    "print(f\"Avogadro: {avogadro:.2e}\")\n",
    "print(f\"Big Number: {big_num:,}\")\n",
    "print(f\"Hex: {num:#0x}\")\n",
    "print(f\"Number: {num:09}\")"
   ]
  },
  {
   "cell_type": "code",
   "execution_count": 5,
   "id": "f3da7ac1",
   "metadata": {},
   "outputs": [
    {
     "name": "stdout",
     "output_type": "stream",
     "text": [
      "Left: |Python    |\n",
      "Right: |    Python|\n",
      "Center: |  Python  |\n",
      "Center *: |**Python**|\n"
     ]
    }
   ],
   "source": [
    "word = \"Python\"\n",
    "\n",
    "print(f\"Left: |{word:<10}|\")\n",
    "print(f\"Right: |{word:>10}|\")\n",
    "print(f\"Center: |{word:^10}|\")\n",
    "print(f\"Center *: |{word:*^10}|\")"
   ]
  },
  {
   "cell_type": "code",
   "execution_count": 6,
   "id": "00baee5c",
   "metadata": {},
   "outputs": [
    {
     "name": "stdout",
     "output_type": "stream",
     "text": [
      "Date: 2025-04-24\n",
      "Time: 11:55:20\n"
     ]
    }
   ],
   "source": [
    "now = datetime.now()\n",
    "\n",
    "print(f\"Date: {now:%Y-%m-%d}\")\n",
    "print(f\"Time: {now:%H:%M:%S}\")"
   ]
  }
 ],
 "metadata": {
  "kernelspec": {
   "display_name": ".venv",
   "language": "python",
   "name": "python3"
  },
  "language_info": {
   "codemirror_mode": {
    "name": "ipython",
    "version": 3
   },
   "file_extension": ".py",
   "mimetype": "text/x-python",
   "name": "python",
   "nbconvert_exporter": "python",
   "pygments_lexer": "ipython3",
   "version": "3.12.4"
  }
 },
 "nbformat": 4,
 "nbformat_minor": 5
}
